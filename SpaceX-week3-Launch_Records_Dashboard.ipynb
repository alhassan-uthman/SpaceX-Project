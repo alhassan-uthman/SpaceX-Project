{
 "cells": [
  {
   "cell_type": "code",
   "execution_count": 1,
   "id": "a4595763",
   "metadata": {},
   "outputs": [
    {
     "name": "stderr",
     "output_type": "stream",
     "text": [
      "C:\\Users\\alhas\\AppData\\Local\\Temp\\ipykernel_8696\\106771812.py:4: UserWarning: \n",
      "The dash_html_components package is deprecated. Please replace\n",
      "`import dash_html_components as html` with `from dash import html`\n",
      "  import dash_html_components as html\n",
      "C:\\Users\\alhas\\AppData\\Local\\Temp\\ipykernel_8696\\106771812.py:5: UserWarning: \n",
      "The dash_core_components package is deprecated. Please replace\n",
      "`import dash_core_components as dcc` with `from dash import dcc`\n",
      "  import dash_core_components as dcc\n"
     ]
    },
    {
     "data": {
      "text/html": [
       "\n",
       "        <iframe\n",
       "            width=\"100%\"\n",
       "            height=\"650\"\n",
       "            src=\"http://127.0.0.1:54112/\"\n",
       "            frameborder=\"0\"\n",
       "            allowfullscreen\n",
       "            \n",
       "        ></iframe>\n",
       "        "
      ],
      "text/plain": [
       "<IPython.lib.display.IFrame at 0x29967e76fd0>"
      ]
     },
     "metadata": {},
     "output_type": "display_data"
    }
   ],
   "source": [
    "# Import required libraries\n",
    "import pandas as pd\n",
    "import dash\n",
    "import dash_html_components as html\n",
    "import dash_core_components as dcc\n",
    "from dash.dependencies import Input, Output\n",
    "import plotly.express as px\n",
    "\n",
    "# Read the airline data into pandas dataframe\n",
    "spacex_df = pd.read_csv(\"spacex_launch_dash.csv\")\n",
    "max_payload = spacex_df['Payload Mass (kg)'].max()\n",
    "min_payload = spacex_df['Payload Mass (kg)'].min()\n",
    "\n",
    "# Create a dash application\n",
    "app = dash.Dash(__name__)\n",
    "\n",
    "# Create an app layout\n",
    "app.layout = html.Div(children=[html.H1('SpaceX Launch Records Dashboard',\n",
    "                                        style={'textAlign': 'center', 'color': '#503D36',\n",
    "                                               'font-size': 40}),\n",
    "                                # TASK 1: Add a dropdown list to enable Launch Site selection\n",
    "                                # The default select value is for ALL sites\n",
    "                                dcc.Dropdown(\n",
    "                                    id='site-dropdown',\n",
    "                                    options=[\n",
    "                                        {'label': 'All Sites', 'value': 'ALL'},\n",
    "                                        {'label': 'CCAFS LC-40',\n",
    "                                            'value': 'CCAFS LC-40'},\n",
    "                                        {'label': 'CCAFS SLC-40',\n",
    "                                            'value': 'CCAFS SLC-40'},\n",
    "                                        {'label': 'KSC LC-39A',\n",
    "                                            'value': 'KSC LC-39A'},\n",
    "                                        {'label': 'VAFB SLC-4E',\n",
    "                                            'value': 'VAFB SLC-4E'},\n",
    "                                    ],\n",
    "                                    value='ALL',\n",
    "                                    placeholder='Select a Launch Site here',\n",
    "                                    searchable=True\n",
    "),\n",
    "    html.Br(),\n",
    "\n",
    "    # TASK 2: Add a pie chart to show the total successful launches count for all sites\n",
    "    # If a specific launch site was selected, show the Success vs. Failed counts for the site\n",
    "    html.Div(dcc.Graph(id='success-pie-chart')),\n",
    "    html.Br(),\n",
    "\n",
    "    html.P(\"Payload range (Kg):\"),\n",
    "    # TASK 3: Add a slider to select payload range\n",
    "    dcc.RangeSlider(\n",
    "                                    id='payload-slider',\n",
    "                                    min=0,\n",
    "                                    max=10000,\n",
    "                                    step=1000,\n",
    "                                    marks={0: '0', 2500: '2500', 5000: '5000',\n",
    "                                           7500: '7500', 10000: '10000'},\n",
    "                                    value=[min_payload, max_payload]\n",
    "),\n",
    "\n",
    "    # TASK 4: Add a scatter chart to show the correlation between payload and launch success\n",
    "    html.Div(\n",
    "                                    dcc.Graph(id='success-payload-scatter-chart')),\n",
    "])\n",
    "\n",
    "# TASK 2:\n",
    "# Add a callback function for `site-dropdown` as input, `success-pie-chart` as output\n",
    "\n",
    "\n",
    "@app.callback(Output(component_id='success-pie-chart', component_property='figure'),\n",
    "              Input(component_id='site-dropdown', component_property='value'))\n",
    "def get_pie_chart(entered_site):\n",
    "    filtered_df = spacex_df\n",
    "    if entered_site == 'ALL':\n",
    "        fig = px.pie(spacex_df, values='class', names='Launch Site',\n",
    "                     title='Total Success Launches By Site')\n",
    "        return fig\n",
    "    else:\n",
    "        # return the outcomes piechart for a selected site\n",
    "        filtered_df = spacex_df[spacex_df['Launch Site'] == entered_site]\n",
    "        filtered_df = filtered_df.groupby(\n",
    "            ['Launch Site', 'class']).size().reset_index(name='class_count')\n",
    "        fig = px.pie(filtered_df, values='class_count', names='class',\n",
    "                     title=f\"Total Success Launches for site {entered_site}\")\n",
    "        return fig\n",
    "\n",
    "# TASK 4:\n",
    "# Add a callback function for `site-dropdown` and `payload-slider` as inputs, `success-payload-scatter-chart` as output\n",
    "\n",
    "\n",
    "@app.callback(Output(component_id='success-payload-scatter-chart', component_property='figure'),\n",
    "              [Input(component_id='site-dropdown', component_property='value'),\n",
    "               Input(component_id='payload-slider', component_property='value')]\n",
    "              )\n",
    "def get_scatter_chart(entered_site, payload_range):\n",
    "    sel_min = payload_range[0]\n",
    "    sel_max = payload_range[1]\n",
    "    filtered_df = spacex_df[spacex_df['Payload Mass (kg)'].between(\n",
    "        sel_min, sel_max)]\n",
    "\n",
    "    if entered_site == 'ALL':\n",
    "        fig = px.scatter(filtered_df, x='Payload Mass (kg)', y='class', color='Booster Version Category',\n",
    "                         title='Correlation between Payload and Success for all Sites')\n",
    "        return fig\n",
    "    else:\n",
    "        filtered_df = filtered_df[filtered_df['Launch Site'] == entered_site]\n",
    "        fig = px.scatter(filtered_df, x='Payload Mass (kg)', y='class', color='Booster Version Category',\n",
    "                         title=f'Correlation between Payload and Success for site {entered_site}')\n",
    "        return fig\n",
    "\n",
    "\n",
    "# Run the app\n",
    "if __name__ == '__main__':\n",
    "    app.run_server()"
   ]
  },
  {
   "cell_type": "markdown",
   "id": "54519c13",
   "metadata": {},
   "source": [
    "## Authors\n"
   ]
  },
  {
   "cell_type": "markdown",
   "id": "4ed8bcda",
   "metadata": {},
   "source": [
    "<a href=\"https://www.linkedin.com/in/alhassan-uthman-17904a58/\"> Alhassan Uthman</a> is a Results-driven Software Engineer and logistics professional with a proven record of accomplishments, leading high-performance teams, driving operational efficiency, and providing world-class customer service in both domestic and international environments. A Business Development leader dedicated to improving processes and streamlining operations. Highly adaptable communicator continually focused on building lasting relationships while identifying areas of opportunity. Committed to increasing revenue and profitability through strategic analysis resulting in enhanced productivity. Self-motivated with a drive for success combined with a unique passion for people development.<br/>\n"
   ]
  },
  {
   "cell_type": "markdown",
   "id": "b3166071",
   "metadata": {},
   "source": [
    "\n",
    "| Date (YYYY-MM-DD) | Version | Changed By      | Change Description      |\n",
    "| ----------------- | ------- | -------------   | ----------------------- |\n",
    "|2024-04-14|1.1|Alhassan|Completed all Tasks and ToDo and added some enhanced codes|"
   ]
  },
  {
   "cell_type": "markdown",
   "id": "e3930541",
   "metadata": {},
   "source": []
  }
 ],
 "metadata": {
  "celltoolbar": "Slideshow",
  "kernelspec": {
   "display_name": "Python 3 (ipykernel)",
   "language": "python",
   "name": "python3"
  },
  "language_info": {
   "codemirror_mode": {
    "name": "ipython",
    "version": 3
   },
   "file_extension": ".py",
   "mimetype": "text/x-python",
   "name": "python",
   "nbconvert_exporter": "python",
   "pygments_lexer": "ipython3",
   "version": "3.8.9"
  }
 },
 "nbformat": 4,
 "nbformat_minor": 5
}
